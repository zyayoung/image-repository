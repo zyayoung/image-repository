{
 "cells": [
  {
   "cell_type": "code",
   "execution_count": null,
   "metadata": {},
   "outputs": [],
   "source": [
    "import cv2\n",
    "import numpy as np\n",
    "from PIL import ImageFont\n",
    "import matplotlib.pyplot as plt\n",
    "\n",
    "# multiprocessing\n",
    "import multiprocessing as mp"
   ]
  },
  {
   "cell_type": "code",
   "execution_count": null,
   "metadata": {},
   "outputs": [],
   "source": [
    "# load font\n",
    "# font = ImageFont.truetype('/usr/share/fonts/truetype/Sarai/Sarai.ttf', 24)\n",
    "font = ImageFont.truetype('./PingFang.ttc', 24)\n",
    "additional_char = ''"
   ]
  },
  {
   "cell_type": "code",
   "execution_count": null,
   "metadata": {},
   "outputs": [],
   "source": [
    "# Load special characters\n",
    "additional_char = '┌┍┎┏┐┑┒┓└┕┖┗┘┙┚┛├┝┞┟┠┡┢┣┤┥┦┧┨┩┪┫┬┭┮┯┰┱┲┳┴┵┶┷┸┹┺┻┼┽┾┿╀╁╂╃╄╅╆╇╈╉╊╋╌╍╎╏═║╒╓╔╕╖╗╘╙╚╛╜╝╞╟╠╡╢╣╤╥╦╧╨╩╪╫╬◤◥◄►▶◀◣◢▲▼◥▸◂▴▾△▽▷◁⊿▻◅▵▿▹◃❏❐❑❒▀▁▂▃▄▅▆▇▉▊▋█▌▍▎▏▐░▒▓▔▕■□▢▣▤▥▦▧▨▩▪▫▬▭▮▯'"
   ]
  },
  {
   "cell_type": "code",
   "execution_count": null,
   "metadata": {},
   "outputs": [],
   "source": [
    "# Pre-process font\n",
    "def get_maxheight():\n",
    "    maxheight = 0\n",
    "    for i in range(32,127):\n",
    "        char = chr(i)\n",
    "        maxheight=max(maxheight,font.getsize(char)[1])\n",
    "    for char in additional_char:\n",
    "        maxheight=max(maxheight,font.getsize(char)[1])\n",
    "    return maxheight\n",
    "\n",
    "def get_maxwidth():\n",
    "    maxwidth = 0\n",
    "    for i in range(32,127):\n",
    "        char = chr(i)\n",
    "        maxwidth=max(maxwidth,font.getsize(char)[0])\n",
    "    for char in additional_char:\n",
    "        maxwidth=max(maxwidth,font.getsize(char)[0])\n",
    "    return maxwidth\n",
    "\n",
    "# build font dict\n",
    "maxheight = get_maxheight()\n",
    "maxwidth = get_maxwidth()\n",
    "# print(maxwidth)\n",
    "\n",
    "# full\n",
    "dictionary_bitmap = []\n",
    "dictionary_char = []\n",
    "dictionary_ord = {}\n",
    "for i in range(32,127):\n",
    "    char = chr(i)\n",
    "    print(char,end='')\n",
    "    img, bias = font.getmask2(char)\n",
    "    bitmap = np.zeros((maxheight,font.getsize(char)[0]))\n",
    "    img = np.array(img).reshape(img.size[1],img.size[0])\n",
    "    if bias[0]>=0:\n",
    "        bitmap[bias[1]:bias[1]+img.shape[0],bias[0]:] = img\n",
    "    else:\n",
    "        bitmap[bias[1]:bias[1]+img.shape[0],:] = img[:,-bias[0]:]\n",
    "    dictionary_bitmap.append(255-bitmap)\n",
    "    dictionary_char.append(char)\n",
    "    dictionary_ord[char]=len(dictionary_bitmap)-1\n",
    "# print(dictionary_char)\n",
    "for char in additional_char:\n",
    "    i = ord(char)\n",
    "    print(char,end='')\n",
    "    img, bias = font.getmask2(char)\n",
    "    bitmap = np.zeros((maxheight,font.getsize(char)[0]))\n",
    "    img = np.array(img).reshape(img.size[1],img.size[0])\n",
    "    if bias[0]>=0:\n",
    "        bitmap[bias[1]:bias[1]+img.shape[0],bias[0]:] = img\n",
    "    else:\n",
    "        bitmap[bias[1]:bias[1]+img.shape[0],:] = img[:,-bias[0]:]\n",
    "    dictionary_bitmap.append(255-bitmap)\n",
    "    dictionary_char.append(char)\n",
    "    dictionary_ord[char]=len(dictionary_bitmap)-1"
   ]
  },
  {
   "cell_type": "code",
   "execution_count": null,
   "metadata": {},
   "outputs": [],
   "source": [
    "def row2str(row):\n",
    "    # padding\n",
    "    row_width = row.shape[1]\n",
    "    for _ in range(maxwidth):\n",
    "        row = np.hstack([row,row[:,-1:]])\n",
    "    \n",
    "    row_pos = 0\n",
    "    row_text = ''\n",
    "    while row_pos < row_width:\n",
    "        candidates = np.zeros(len(dictionary_bitmap))\n",
    "        for cidx, char in enumerate(dictionary_bitmap):\n",
    "            row_part = row[:,row_pos:row_pos+char.shape[1]]\n",
    "            loss = np.square(np.abs(row_part-char)).mean()\n",
    "            candidates[cidx]= loss\n",
    "        cidx = candidates.argmin()\n",
    "        row_text += dictionary_char[cidx]\n",
    "        row_pos += dictionary_bitmap[cidx].shape[1]\n",
    "    return row_text"
   ]
  },
  {
   "cell_type": "markdown",
   "metadata": {},
   "source": [
    "# Video"
   ]
  },
  {
   "cell_type": "code",
   "execution_count": null,
   "metadata": {},
   "outputs": [],
   "source": [
    "targrt_rows = 32\n",
    "frame_skip = 1\n",
    "if __name__ == '__main__':\n",
    "    cap = cv2.VideoCapture('./bad apple原版高清1440*1080.mp4')\n",
    "    ret, src = cap.read()\n",
    "    src_scale = targrt_rows*maxheight/src.shape[0]\n",
    "    writer = cv2.VideoWriter(\n",
    "        './bad apple.mp4',\n",
    "        cv2.VideoWriter_fourcc('F', 'M', 'P', '4'),\n",
    "        cap.get(cv2.CAP_PROP_FPS)/frame_skip,\n",
    "        (int(src_scale*src.shape[1]),int(src_scale*src.shape[0])),\n",
    "    )\n",
    "    print('size',(int(src_scale*src.shape[1]),int(src_scale*src.shape[0])))\n",
    "    frame_cnt = 1\n",
    "    frame_tot = int(cap.get(cv2.CAP_PROP_FRAME_COUNT))\n",
    "    while True:\n",
    "        print('% 6d % 6d %.2f'%(frame_cnt, frame_tot, frame_cnt*100.0/frame_tot),end='%\\r')\n",
    "            \n",
    "        # pre-process image\n",
    "        src = cv2.cvtColor(src, cv2.COLOR_BGR2GRAY)\n",
    "        src_scale = targrt_rows*maxheight/src.shape[0]\n",
    "        src = cv2.resize(src,(int(src_scale*src.shape[1]),int(src_scale*src.shape[0])))\n",
    "#         ret, src = cv2.threshold(src, 127, 255, cv2.THRESH_BINARY)\n",
    "        \n",
    "\n",
    "        # prepare rows\n",
    "        rows = []\n",
    "        for i in range(targrt_rows):\n",
    "            rows.append(src[i*maxheight:(i+1)*maxheight,:])\n",
    "\n",
    "        # generate image\n",
    "        final_image = 255 - np.zeros((src.shape[0],src.shape[1]+maxwidth), dtype=np.uint8)\n",
    "        x = y =0\n",
    "        for row in list(pool.map(row2str, rows)):\n",
    "            y=0\n",
    "            for c in row:\n",
    "                bitmap = dictionary_bitmap[dictionary_ord[c]]\n",
    "                final_image[x:x+maxheight,y:y+bitmap.shape[1]]=bitmap\n",
    "                y+=bitmap.shape[1]\n",
    "            x += maxheight\n",
    "        final_image = final_image[:,:src.shape[1]]\n",
    "        final_image = np.array([final_image,final_image,final_image]).transpose(1,2,0)\n",
    "        writer.write(final_image)\n",
    "        for _ in range(frame_skip):\n",
    "            ret, src = cap.read()\n",
    "        frame_cnt += frame_skip\n",
    "        if src is None:\n",
    "            break\n",
    "    writer.release()"
   ]
  },
  {
   "cell_type": "markdown",
   "metadata": {},
   "source": [
    "# Image"
   ]
  },
  {
   "cell_type": "code",
   "execution_count": null,
   "metadata": {
    "scrolled": false
   },
   "outputs": [],
   "source": [
    "targrt_rows = 48\n",
    "\n",
    "pool = mp.Pool()\n",
    "# cap = cv2.VideoCapture('./bad apple原版高清1440*1080.mp4')\n",
    "# for _ in range(150):\n",
    "#     ret, src = cap.read()\n",
    "src = cv2.imread('./32470225.png')\n",
    "src_scale = targrt_rows*maxheight/src.shape[0]\n",
    "\n",
    "# pre-process image\n",
    "src = cv2.cvtColor(src, cv2.COLOR_BGR2GRAY)\n",
    "src_scale = targrt_rows*maxheight/src.shape[0]\n",
    "src = cv2.resize(src,(int(src_scale*src.shape[1]),int(src_scale*src.shape[0])))\n",
    "#         ret, src = cv2.threshold(src, 127, 255, cv2.THRESH_BINARY)\n",
    "\n",
    "\n",
    "# prepare rows\n",
    "rows = []\n",
    "for i in range(targrt_rows):\n",
    "    rows.append(src[i*maxheight:(i+1)*maxheight,:])\n",
    "\n",
    "# generate image\n",
    "final_image = 255 - np.zeros((src.shape[0],src.shape[1]+maxwidth), dtype=np.uint8)\n",
    "x = y =0\n",
    "for row in list(pool.map(row2str, rows)):\n",
    "    print(row)\n",
    "    y=0\n",
    "    for c in row:\n",
    "        bitmap = dictionary_bitmap[dictionary_ord[c]]\n",
    "        final_image[x:x+maxheight,y:y+bitmap.shape[1]]=bitmap\n",
    "        y+=bitmap.shape[1]\n",
    "    x += maxheight\n",
    "final_image = final_image[:,:src.shape[1]]\n",
    "final_image = np.array([final_image,final_image,final_image]).transpose(1,2,0)"
   ]
  },
  {
   "cell_type": "code",
   "execution_count": null,
   "metadata": {},
   "outputs": [],
   "source": [
    "cv2.imwrite('output.png', final_image)"
   ]
  },
  {
   "cell_type": "code",
   "execution_count": null,
   "metadata": {},
   "outputs": [],
   "source": []
  }
 ],
 "metadata": {
  "kernelspec": {
   "display_name": "Python 3",
   "language": "python",
   "name": "python3"
  },
  "language_info": {
   "codemirror_mode": {
    "name": "ipython",
    "version": 3
   },
   "file_extension": ".py",
   "mimetype": "text/x-python",
   "name": "python",
   "nbconvert_exporter": "python",
   "pygments_lexer": "ipython3",
   "version": "3.6.6"
  }
 },
 "nbformat": 4,
 "nbformat_minor": 2
}
